{
 "cells": [
  {
   "cell_type": "code",
   "execution_count": 39,
   "id": "f6838bc2-77af-4892-b3e9-8e6299d47697",
   "metadata": {},
   "outputs": [
    {
     "name": "stdin",
     "output_type": "stream",
     "text": [
      "enter the weight: 400\n",
      "enter the size: 9.2\n"
     ]
    },
    {
     "name": "stdout",
     "output_type": "stream",
     "text": [
      "[1]\n",
      "orange\n"
     ]
    }
   ],
   "source": [
    "from sklearn.neighbors import KNeighborsClassifier\n",
    "X=[[180,7],[250,5],[300,8.5],[360,9.2],[380,9.5]]\n",
    "y=[0,0,0,1,1]\n",
    "model=KNeighborsClassifier(n_neighbors=3)\n",
    "model.fit(X,y)\n",
    "\n",
    "weight=float(input(\"enter the weight:\"))\n",
    "size=float(input(\"enter the size:\"))\n",
    "\n",
    "res=model.predict([[weight,size]])\n",
    "print(res)\n",
    "if res==0:        #0-apple 1-orange\n",
    "    print(\"apple\")\n",
    "else:\n",
    "    print('orange')"
   ]
  },
  {
   "cell_type": "code",
   "execution_count": null,
   "id": "758b5f3b-4ca8-41d0-a707-29b93735d024",
   "metadata": {},
   "outputs": [],
   "source": []
  }
 ],
 "metadata": {
  "kernelspec": {
   "display_name": "Python 3 (ipykernel)",
   "language": "python",
   "name": "python3"
  },
  "language_info": {
   "codemirror_mode": {
    "name": "ipython",
    "version": 3
   },
   "file_extension": ".py",
   "mimetype": "text/x-python",
   "name": "python",
   "nbconvert_exporter": "python",
   "pygments_lexer": "ipython3",
   "version": "3.12.7"
  }
 },
 "nbformat": 4,
 "nbformat_minor": 5
}
