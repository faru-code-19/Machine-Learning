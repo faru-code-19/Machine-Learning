{
 "cells": [
  {
   "cell_type": "code",
   "execution_count": 13,
   "id": "c84ca04c-d47c-4654-ba79-3223b8c69745",
   "metadata": {},
   "outputs": [
    {
     "name": "stdout",
     "output_type": "stream",
     "text": [
      "accuracy is: 100 %\n"
     ]
    }
   ],
   "source": [
    "import numpy as np#generate the data\n",
    "import pandas as pd#generate the data\n",
    "from sklearn.model_selection import train_test_split#split the data\n",
    "from sklearn.linear_model import LogisticRegression#train the model\n",
    "from sklearn.metrics import accuracy_score#test the model\n",
    "\n",
    "#generate the data\n",
    "data={\n",
    "    'h_s':[1,2,3,4,5,6,7,8,9,10],\n",
    "    'passed':[0,0,0,0,0,0,1,1,1,1]\n",
    "}\n",
    "df=pd.DataFrame(data)\n",
    "df\n",
    "\n",
    "#split the data\n",
    "X=df[['h_s']]\n",
    "y=df['passed']\n",
    "train_X,test_X,train_y,test_y=train_test_split(X,y,test_size=0.2,random_state=42)\n",
    "\n",
    "#train the model\n",
    "model=LogisticRegression()\n",
    "model.fit(train_X,train_y)\n",
    "\n",
    "#test the model\n",
    "predictions=model.predict(test_X)\n",
    "accuracy=accuracy_score(test_y,predictions)\n",
    "print(\"accuracy is:\",round(accuracy*100),\"%\")"
   ]
  },
  {
   "cell_type": "code",
   "execution_count": null,
   "id": "7b1a493a-bfdc-45a9-98c5-da74792b34af",
   "metadata": {},
   "outputs": [],
   "source": []
  }
 ],
 "metadata": {
  "kernelspec": {
   "display_name": "Python 3 (ipykernel)",
   "language": "python",
   "name": "python3"
  },
  "language_info": {
   "codemirror_mode": {
    "name": "ipython",
    "version": 3
   },
   "file_extension": ".py",
   "mimetype": "text/x-python",
   "name": "python",
   "nbconvert_exporter": "python",
   "pygments_lexer": "ipython3",
   "version": "3.12.7"
  }
 },
 "nbformat": 4,
 "nbformat_minor": 5
}
