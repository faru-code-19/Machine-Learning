{
 "cells": [
  {
   "cell_type": "code",
   "execution_count": 2,
   "id": "e1c23e7a-a131-457f-acfa-19c0de050bbe",
   "metadata": {},
   "outputs": [],
   "source": [
    "from sklearn.preprocessing import LabelEncoder"
   ]
  },
  {
   "cell_type": "code",
   "execution_count": 4,
   "id": "85af2e0c-d8be-4dea-82b8-403e0dd9d806",
   "metadata": {},
   "outputs": [],
   "source": [
    "data=['red','blue','green','yellow']\n",
    "\n",
    "encoder=LabelEncoder()\n",
    "encoded=encoder.fit_transform(data)"
   ]
  },
  {
   "cell_type": "code",
   "execution_count": 6,
   "id": "7d5d94b9-f2af-4585-a49d-6ed5faf30d09",
   "metadata": {},
   "outputs": [
    {
     "name": "stdout",
     "output_type": "stream",
     "text": [
      "[2 0 1 3]\n"
     ]
    }
   ],
   "source": [
    "print(encoded)"
   ]
  },
  {
   "cell_type": "code",
   "execution_count": null,
   "id": "51107d72-40e4-41da-be31-40d6f1fe2c87",
   "metadata": {},
   "outputs": [],
   "source": []
  }
 ],
 "metadata": {
  "kernelspec": {
   "display_name": "Python 3 (ipykernel)",
   "language": "python",
   "name": "python3"
  },
  "language_info": {
   "codemirror_mode": {
    "name": "ipython",
    "version": 3
   },
   "file_extension": ".py",
   "mimetype": "text/x-python",
   "name": "python",
   "nbconvert_exporter": "python",
   "pygments_lexer": "ipython3",
   "version": "3.12.7"
  }
 },
 "nbformat": 4,
 "nbformat_minor": 5
}
