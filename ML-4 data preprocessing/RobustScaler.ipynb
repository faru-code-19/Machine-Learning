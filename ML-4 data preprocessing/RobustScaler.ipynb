{
 "cells": [
  {
   "cell_type": "code",
   "execution_count": 1,
   "id": "6b613b83-a1bb-4c26-ae55-9b9ecc303389",
   "metadata": {},
   "outputs": [],
   "source": [
    "import numpy as np\n",
    "from sklearn.preprocessing import RobustScaler"
   ]
  },
  {
   "cell_type": "code",
   "execution_count": 3,
   "id": "fc698497-3606-4949-8cc7-3a9a5f92f7fc",
   "metadata": {},
   "outputs": [],
   "source": [
    "data=np.array([[100],[200],[300]])"
   ]
  },
  {
   "cell_type": "code",
   "execution_count": 9,
   "id": "7c4a89a3-1cac-4769-878f-2ab3aa39061c",
   "metadata": {},
   "outputs": [],
   "source": [
    "rscaler=RobustScaler()\n",
    "rscaled=rscaler.fit_transform(data)"
   ]
  },
  {
   "cell_type": "code",
   "execution_count": 11,
   "id": "64f46e03-2880-4d79-95fc-788a3c819d6d",
   "metadata": {},
   "outputs": [
    {
     "name": "stdout",
     "output_type": "stream",
     "text": [
      "[[-1.]\n",
      " [ 0.]\n",
      " [ 1.]]\n"
     ]
    }
   ],
   "source": [
    "print(rscaled)"
   ]
  },
  {
   "cell_type": "code",
   "execution_count": null,
   "id": "c779dd70-fd71-4536-bc51-c6f3c588e8a1",
   "metadata": {},
   "outputs": [],
   "source": []
  }
 ],
 "metadata": {
  "kernelspec": {
   "display_name": "Python 3 (ipykernel)",
   "language": "python",
   "name": "python3"
  },
  "language_info": {
   "codemirror_mode": {
    "name": "ipython",
    "version": 3
   },
   "file_extension": ".py",
   "mimetype": "text/x-python",
   "name": "python",
   "nbconvert_exporter": "python",
   "pygments_lexer": "ipython3",
   "version": "3.12.7"
  }
 },
 "nbformat": 4,
 "nbformat_minor": 5
}
